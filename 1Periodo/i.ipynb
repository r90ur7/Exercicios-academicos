{
 "cells": [
  {
   "cell_type": "code",
   "execution_count": 128,
   "metadata": {},
   "outputs": [
    {
     "name": "stdout",
     "output_type": "stream",
     "text": [
      "fatorial de 5\n",
      "fat -1\n",
      "inteiro, 5\n",
      "resultado -5\n",
      "fat 0\n",
      "inteiro, 5\n",
      "resultado 0\n",
      "fat 1\n",
      "inteiro, 5\n",
      "resultado 5\n",
      "fat 2\n",
      "inteiro, 5\n",
      "resultado 10\n",
      "fat 3\n",
      "inteiro, 5\n",
      "resultado 15\n"
     ]
    }
   ],
   "source": [
    "inteiro = 5\n",
    "fat = inteiro\n",
    "resultado = 0\n",
    "print(\"fatorial de {}\".format(inteiro))\n",
    "for fat in range(0,fat):\n",
    "    fat = fat - 1\n",
    "    resultado = inteiro * fat\n",
    "    print(\"fat\",fat)\n",
    "    print(\"inteiro,\",inteiro)\n",
    "    print(\"resultado\",resultado)"
   ]
  },
  {
   "cell_type": "code",
   "execution_count": null,
   "metadata": {},
   "outputs": [],
   "source": []
  }
 ],
 "metadata": {
  "interpreter": {
   "hash": "c67a59bc8a1ece04218ca3d657705788683a2b451dc70c8ed96a31dd3ca4cb0e"
  },
  "kernelspec": {
   "display_name": "Python 3.10.0 32-bit",
   "name": "python3"
  },
  "language_info": {
   "name": "python",
   "version": "3.10.0"
  },
  "orig_nbformat": 4
 },
 "nbformat": 4,
 "nbformat_minor": 2
}
