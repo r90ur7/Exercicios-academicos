{
 "cells": [
  {
   "cell_type": "code",
   "execution_count": 7,
   "metadata": {},
   "outputs": [
    {
     "name": "stdout",
     "output_type": "stream",
     "text": [
      "1\n",
      "['1,2,3,4,5,6,7,8,9,10,11,12,13,14,15']\n"
     ]
    }
   ],
   "source": [
    "lista = [\"1,2,3,4,5,6,7,8,9,10,11,12,13,14,15\".format(\",\")]\n",
    "print(len(lista))\n",
    "print(lista)\n",
    "1"
   ]
  },
  {
   "cell_type": "markdown",
   "metadata": {},
   "source": []
  },
  {
   "cell_type": "code",
   "execution_count": null,
   "metadata": {},
   "outputs": [],
   "source": [
    "inteiro = 3\n",
    "pot = 0\n",
    "resultado = inteiro ** (1/2)\n",
    "lista = [\"1,2,3,4,5,6,7,8,9,10,11,12,13,14,15\".format]\n",
    "while (pot <= 15 ):\n",
    " print(\"{}^{} da um quadaro perfeito : {}\".format(inteiro,pot,resultado))\n",
    " pot = pot + 1\n",
    " resultado = inteiro ** pot"
   ]
  },
  {
   "cell_type": "code",
   "execution_count": 46,
   "metadata": {},
   "outputs": [
    {
     "name": "stdout",
     "output_type": "stream",
     "text": [
      "3^0 : 1\n",
      "3^¹ : 3\n",
      "3^² : 9\n",
      "3^³ : 27\n",
      "3^4 : 81\n",
      "3^5 : 243\n",
      "3^6 : 729\n",
      "3^7 : 2187\n",
      "3^8 : 6561\n",
      "3^9 : 19683\n",
      "3^10 : 59049\n",
      "3^11 : 177147\n",
      "3^12 : 531441\n",
      "3^13 : 1594323\n",
      "3^14 : 4782969\n",
      "3^15 : 14348907\n",
      "fim\n"
     ]
    }
   ],
   "source": [
    "inteiro = 3\n",
    "pot = 0\n",
    "pot1 = str(pot)\n",
    "resultado = inteiro ** pot\n",
    "lista = \"0,¹,²,³,4,5,6,7,8,9,10,11,12,13,14,15\"\n",
    "lista = lista.split(\",\")\n",
    "lista[pot]\n",
    "while (pot <= 15 ):\n",
    " print(\"{}^{} : {}\".format(inteiro,lista[pot],round(resultado,1)))\n",
    " pot = pot + 1\n",
    " pot1 = str(pot)\n",
    " resultado = inteiro ** pot\n",
    " if pot > 15 :\n",
    "     print(\"fim\")"
   ]
  },
  {
   "cell_type": "markdown",
   "metadata": {},
   "source": [
    "$x^{15}$"
   ]
  },
  {
   "cell_type": "code",
   "execution_count": 51,
   "metadata": {},
   "outputs": [
    {
     "name": "stdout",
     "output_type": "stream",
     "text": [
      "6\n",
      "7\n",
      "8\n",
      "9\n",
      "10\n"
     ]
    }
   ],
   "source": [
    "notas = []\n",
    "inteiro =int(input(\"digite a base : \"))\n",
    "\n",
    "for i in range(inteiro,11):\n",
    "    notas.append(i)\n",
    "    \n",
    "for nota in notas:\n",
    "    print(nota)"
   ]
  },
  {
   "cell_type": "code",
   "execution_count": 53,
   "metadata": {},
   "outputs": [
    {
     "name": "stdout",
     "output_type": "stream",
     "text": [
      "[4]\n"
     ]
    }
   ],
   "source": [
    "inteiro =int(input(\"digite a base : \"))\n",
    "list_pot =int(input(\"digite a base : \"))\n",
    "pot = 0\n",
    "pot1 = str(pot)\n",
    "resultado = inteiro ** pot\n",
    "lista = [list_pot]\n",
    "print(lista)"
   ]
  }
 ],
 "metadata": {
  "interpreter": {
   "hash": "c67a59bc8a1ece04218ca3d657705788683a2b451dc70c8ed96a31dd3ca4cb0e"
  },
  "kernelspec": {
   "display_name": "Python 3.10.0 32-bit",
   "name": "python3"
  },
  "language_info": {
   "codemirror_mode": {
    "name": "ipython",
    "version": 3
   },
   "file_extension": ".py",
   "mimetype": "text/x-python",
   "name": "python",
   "nbconvert_exporter": "python",
   "pygments_lexer": "ipython3",
   "version": "3.10.0"
  },
  "orig_nbformat": 4
 },
 "nbformat": 4,
 "nbformat_minor": 2
}
