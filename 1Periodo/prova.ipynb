{
 "cells": [
  {
   "cell_type": "code",
   "execution_count": null,
   "metadata": {},
   "outputs": [],
   "source": [
    "inteiro = 3\n",
    "pot = 0\n",
    "pot1 = str(pot)\n",
    "resultado = inteiro ** pot\n",
    "lista = \"a,b,c,d,e\"\n",
    "lista = lista.split(\",\")\n",
    "lista[pot]\n",
    "while (pot <= 15 ):\n",
    " print(\"{}^{} : {}\".format(inteiro,lista[pot],round(resultado,1)))\n",
    " pot = pot + 1\n",
    " pot1 = str(pot)\n",
    " resultado = inteiro ** pot\n",
    " if pot > 15 :\n",
    "     print(\"fim\")"
   ]
  },
  {
   "cell_type": "code",
   "execution_count": null,
   "metadata": {},
   "outputs": [],
   "source": [
    "\n"
   ]
  }
 ],
 "metadata": {
  "language_info": {
   "name": "python"
  },
  "orig_nbformat": 4
 },
 "nbformat": 4,
 "nbformat_minor": 2
}
