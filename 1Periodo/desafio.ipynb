{
 "cells": [
  {
   "cell_type": "code",
   "execution_count": null,
   "metadata": {},
   "outputs": [],
   "source": [
    "i = 1\n",
    " while i < 21:\n",
    "  if ( i % 5) == 0 :\n",
    "      continue\n",
    "    else: \n",
    "      print(\"Z\")\n",
    "    print(i)\n",
    "    i += 1"
   ]
  }
 ],
 "metadata": {
  "interpreter": {
   "hash": "c67a59bc8a1ece04218ca3d657705788683a2b451dc70c8ed96a31dd3ca4cb0e"
  },
  "kernelspec": {
   "display_name": "Python 3.10.0 32-bit",
   "name": "python3"
  },
  "language_info": {
   "name": "python",
   "version": "3.10.0"
  },
  "orig_nbformat": 4
 },
 "nbformat": 4,
 "nbformat_minor": 2
}
