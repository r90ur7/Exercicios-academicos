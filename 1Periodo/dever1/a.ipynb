{
 "cells": [
  {
   "cell_type": "code",
   "execution_count": 1,
   "metadata": {},
   "outputs": [
    {
     "name": "stdout",
     "output_type": "stream",
     "text": [
      "16\n",
      "25\n",
      "36\n",
      "49\n",
      "64\n",
      "81\n",
      "100\n",
      "121\n",
      "144\n",
      "169\n",
      "196\n"
     ]
    }
   ],
   "source": [
    "\n",
    "inteiro = 0\n",
    "while (inteiro <= 200 ):\n",
    " inteiro = inteiro + 1\n",
    " resultado = inteiro * inteiro\n",
    " if resultado >= 15 and resultado <= 200 :\n",
    "     print(resultado)\n",
    "     \n",
    "\n",
    "\n",
    " "
   ]
  },
  {
   "cell_type": "code",
   "execution_count": 2,
   "metadata": {},
   "outputs": [
    {
     "name": "stdout",
     "output_type": "stream",
     "text": [
      "4² da um quadaro perfeito : 16\n",
      "5² da um quadaro perfeito : 25\n",
      "6² da um quadaro perfeito : 36\n",
      "7² da um quadaro perfeito : 49\n",
      "8² da um quadaro perfeito : 64\n",
      "9² da um quadaro perfeito : 81\n",
      "10² da um quadaro perfeito : 100\n",
      "11² da um quadaro perfeito : 121\n",
      "12² da um quadaro perfeito : 144\n",
      "13² da um quadaro perfeito : 169\n",
      "14² da um quadaro perfeito : 196\n",
      "todos os numeros posteriores não são quadrados pereitos abaixo de 200\n"
     ]
    }
   ],
   "source": [
    "inteiro = 0\n",
    "resultado = inteiro ** (1/2)\n",
    "while (inteiro <= 200 ):\n",
    " inteiro = inteiro + 1\n",
    " resultado = inteiro * inteiro\n",
    " if resultado >= 15 and resultado <= 200 :\n",
    "  print(\"{}² da um quadaro perfeito : {}\".format(inteiro,resultado))\n",
    "else :\n",
    "  print(\"todos os numeros posteriores não são quadrados pereitos abaixo de 200\")"
   ]
  },
  {
   "cell_type": "code",
   "execution_count": null,
   "metadata": {},
   "outputs": [],
   "source": []
  }
 ],
 "metadata": {
  "interpreter": {
   "hash": "c67a59bc8a1ece04218ca3d657705788683a2b451dc70c8ed96a31dd3ca4cb0e"
  },
  "kernelspec": {
   "display_name": "Python 3.10.0 32-bit",
   "name": "python3"
  },
  "language_info": {
   "codemirror_mode": {
    "name": "ipython",
    "version": 3
   },
   "file_extension": ".py",
   "mimetype": "text/x-python",
   "name": "python",
   "nbconvert_exporter": "python",
   "pygments_lexer": "ipython3",
   "version": "3.10.0"
  },
  "orig_nbformat": 4
 },
 "nbformat": 4,
 "nbformat_minor": 2
}
