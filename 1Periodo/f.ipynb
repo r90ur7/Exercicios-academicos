{
 "cells": [
  {
   "cell_type": "code",
   "execution_count": 1,
   "metadata": {},
   "outputs": [
    {
     "name": "stdout",
     "output_type": "stream",
     "text": [
      "4\n",
      "8\n",
      "12\n",
      "16\n",
      "20\n",
      "24\n",
      "28\n",
      "32\n",
      "36\n",
      "40\n",
      "44\n",
      "48\n",
      "52\n",
      "56\n",
      "60\n",
      "64\n",
      "68\n",
      "72\n",
      "76\n",
      "80\n",
      "84\n",
      "88\n",
      "92\n",
      "96\n",
      "100\n",
      "104\n",
      "108\n",
      "112\n",
      "116\n",
      "120\n",
      "124\n",
      "128\n",
      "132\n",
      "136\n",
      "140\n",
      "144\n",
      "148\n",
      "152\n",
      "156\n",
      "160\n",
      "164\n",
      "168\n",
      "172\n",
      "176\n",
      "180\n",
      "184\n",
      "188\n",
      "192\n",
      "196\n",
      "200\n",
      "fim do progama\n"
     ]
    }
   ],
   "source": [
    "\n",
    "inteiro = 0\n",
    "while (inteiro <= 200 ):\n",
    " inteiro = inteiro + 1\n",
    " if inteiro % 4 == 0 and inteiro <= 200  :\n",
    "  print(\"{}\".format(inteiro))\n",
    "else :\n",
    "  print(\"fim do progama\")"
   ]
  }
 ],
 "metadata": {
  "interpreter": {
   "hash": "c67a59bc8a1ece04218ca3d657705788683a2b451dc70c8ed96a31dd3ca4cb0e"
  },
  "kernelspec": {
   "display_name": "Python 3.10.0 32-bit",
   "name": "python3"
  },
  "language_info": {
   "codemirror_mode": {
    "name": "ipython",
    "version": 3
   },
   "file_extension": ".py",
   "mimetype": "text/x-python",
   "name": "python",
   "nbconvert_exporter": "python",
   "pygments_lexer": "ipython3",
   "version": "3.10.0"
  },
  "orig_nbformat": 4
 },
 "nbformat": 4,
 "nbformat_minor": 2
}
