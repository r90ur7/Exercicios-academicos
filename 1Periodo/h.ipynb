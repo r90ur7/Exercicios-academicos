{
 "cells": [
  {
   "cell_type": "code",
   "execution_count": 16,
   "metadata": {},
   "outputs": [
    {
     "name": "stdout",
     "output_type": "stream",
     "text": [
      "9^0 : 1\n",
      "fim\n"
     ]
    }
   ],
   "source": [
    "inteiro =int(input(\"digite a base : \"))\n",
    "pot =int(input(\"digite a base : \"))\n",
    "resultado = inteiro ** pot\n",
    "print(\"{}^{} : {}\".format(inteiro,pot,resultado))\n",
    "if pot != int :\n",
    "     print(\"fim\")"
   ]
  }
 ],
 "metadata": {
  "interpreter": {
   "hash": "f18f6787e101d83bc1fcd5d3cbc19e8450cf1aa29900ea1072dcaf57f760df11"
  },
  "kernelspec": {
   "display_name": "Python 3.8.8 32-bit ('base': conda)",
   "name": "python3"
  },
  "language_info": {
   "codemirror_mode": {
    "name": "ipython",
    "version": 3
   },
   "file_extension": ".py",
   "mimetype": "text/x-python",
   "name": "python",
   "nbconvert_exporter": "python",
   "pygments_lexer": "ipython3",
   "version": "3.8.8"
  },
  "orig_nbformat": 4
 },
 "nbformat": 4,
 "nbformat_minor": 2
}
